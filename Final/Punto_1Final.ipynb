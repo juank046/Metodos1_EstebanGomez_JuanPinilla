{
  "nbformat": 4,
  "nbformat_minor": 0,
  "metadata": {
    "colab": {
      "provenance": []
    },
    "kernelspec": {
      "name": "python3",
      "display_name": "Python 3"
    },
    "language_info": {
      "name": "python"
    }
  },
  "cells": [
    {
      "cell_type": "code",
      "execution_count": 2,
      "metadata": {
        "colab": {
          "base_uri": "https://localhost:8080/"
        },
        "id": "ht6hsbo3cXO0",
        "outputId": "96383c0a-4416-42ba-a16a-ad5b3dc9b009"
      },
      "outputs": [
        {
          "output_type": "execute_result",
          "data": {
            "text/plain": [
              "array([[0, 0, 0, ..., 0, 0, 0],\n",
              "       [0, 0, 0, ..., 0, 0, 1],\n",
              "       [0, 0, 0, ..., 0, 1, 0],\n",
              "       ...,\n",
              "       [1, 1, 1, ..., 1, 0, 1],\n",
              "       [1, 1, 1, ..., 1, 1, 0],\n",
              "       [1, 1, 1, ..., 1, 1, 1]])"
            ]
          },
          "metadata": {},
          "execution_count": 2
        }
      ],
      "source": [
        "import numpy as np\n",
        "import matplotlib.pyplot as plt\n",
        "from itertools import permutations\n",
        "from itertools import combinations\n",
        "from itertools import combinations_with_replacement\n",
        "\n",
        "#Definimos estados y priors \n",
        "#0 es cara y 1 sello \n",
        "state = np.array([0,1])\n",
        "priorpi = np.array([0.2, 0.8]) #Prior dado por el ejercicio \n",
        "\n",
        "#Matrices de transmisión y emisión\n",
        "T = np.array([[0.8, 0.2], [0.2, 0.8]])\n",
        "E = np.array([[0.5, 0.9], [0.5, 0.1]])\n",
        "\n",
        "DictH = {0:'Cara',1:'Sello'}\n",
        "DictO = {0:'Justa',1:'Sesgada'}\n",
        "\n",
        "#Secuencia de lanzamientos \n",
        "obs = np.array([1 ,0 ,0 ,0 ,1 ,0 ,1 ,0])\n",
        "\n",
        "def GetHiddenStates(States, N):\n",
        "    \n",
        "    CStates = list( combinations_with_replacement(States,N) )\n",
        "    \n",
        "    Permu = []\n",
        "    \n",
        "    for it in CStates:\n",
        "        p = list(permutations(it,N))\n",
        "        \n",
        "        for i in p:\n",
        "            if i not in Permu:\n",
        "                Permu.append(i)\n",
        "    \n",
        "    #print(CStates)\n",
        "    return np.array(Permu)\n",
        "\n",
        "HiddenStates = GetHiddenStates(state, 8)\n",
        "HiddenStates"
      ]
    },
    {
      "cell_type": "code",
      "source": [
        "#Probabilidad \n",
        "def GetProb(T,E,Obs,State,Prior):\n",
        "    \n",
        "    n = len(Obs)\n",
        "    p = 1.\n",
        "    \n",
        "    p *= Prior[State[0] ]\n",
        "    \n",
        "    for i in range(n-1):\n",
        "        p *= T[ State[i+1], State[i] ]\n",
        "    \n",
        "    for i in range(n):\n",
        "        p *= E[ Obs[i], State[i] ]\n",
        "         \n",
        "    return p\n",
        "\n",
        "dim = HiddenStates.shape[0]\n",
        "P = np.zeros(dim)\n",
        "\n",
        "for i in range(dim):\n",
        "    P[i] = GetProb(T,E,obs,HiddenStates[i],priorpi)\n",
        "\n",
        "print(P)"
      ],
      "metadata": {
        "colab": {
          "base_uri": "https://localhost:8080/"
        },
        "id": "2tvw0Nsec3eF",
        "outputId": "beaa6c11-2b4f-4f02-95a7-c997ffb66b3c"
      },
      "execution_count": 3,
      "outputs": [
        {
          "output_type": "stream",
          "name": "stdout",
          "text": [
            "[1.63840000e-04 7.37280000e-05 2.04800000e-06 1.84320000e-05\n",
            " 2.04800000e-06 1.84320000e-05 1.84320000e-05 1.84320000e-05\n",
            " 3.27680000e-05 1.47456000e-05 8.29440000e-06 3.68640000e-06\n",
            " 9.21600000e-07 2.56000000e-08 3.68640000e-06 8.29440000e-06\n",
            " 2.30400000e-07 2.07360000e-06 3.68640000e-06 8.29440000e-06\n",
            " 2.30400000e-07 2.07360000e-06 2.30400000e-07 3.31776000e-05\n",
            " 8.29440000e-06 2.30400000e-07 2.07360000e-06 2.30400000e-07\n",
            " 2.07360000e-06 3.31776000e-05 1.47456000e-05 4.09600000e-07\n",
            " 3.68640000e-06 4.09600000e-07 3.68640000e-06 3.68640000e-06\n",
            " 5.89824000e-05 2.65420800e-05 1.84320000e-07 1.65888000e-06\n",
            " 7.37280000e-07 1.65888000e-06 9.33120000e-07 4.14720000e-07\n",
            " 1.65888000e-06 4.60800000e-08 6.63552000e-06 1.65888000e-06\n",
            " 9.33120000e-07 4.14720000e-07 1.03680000e-07 2.88000000e-09\n",
            " 4.14720000e-07 1.49299200e-05 4.14720000e-07 3.73248000e-06\n",
            " 6.63552000e-06 1.65888000e-06 9.33120000e-07 4.14720000e-07\n",
            " 1.03680000e-07 2.88000000e-09 4.14720000e-07 9.33120000e-07\n",
            " 2.59200000e-08 2.33280000e-07 4.14720000e-07 1.49299200e-05\n",
            " 4.14720000e-07 3.73248000e-06 4.14720000e-07 5.97196800e-05\n",
            " 2.94912000e-06 1.65888000e-06 7.37280000e-07 1.84320000e-07\n",
            " 5.12000000e-09 7.37280000e-07 1.65888000e-06 4.60800000e-08\n",
            " 4.14720000e-07 7.37280000e-07 1.65888000e-06 4.60800000e-08\n",
            " 4.14720000e-07 4.60800000e-08 6.63552000e-06 2.65420800e-05\n",
            " 7.37280000e-07 6.63552000e-06 7.37280000e-07 6.63552000e-06\n",
            " 1.06168320e-04 5.30841600e-06 2.98598400e-06 3.31776000e-07\n",
            " 2.98598400e-06 1.32710400e-06 2.98598400e-06 2.07360000e-08\n",
            " 1.86624000e-07 8.29440000e-08 2.98598400e-06 1.67961600e-06\n",
            " 7.46496000e-07 2.98598400e-06 8.29440000e-08 1.19439360e-05\n",
            " 2.98598400e-06 2.07360000e-08 1.86624000e-07 8.29440000e-08\n",
            " 1.86624000e-07 1.04976000e-07 4.66560000e-08 1.86624000e-07\n",
            " 5.18400000e-09 7.46496000e-07 2.98598400e-06 1.67961600e-06\n",
            " 7.46496000e-07 1.86624000e-07 5.18400000e-09 7.46496000e-07\n",
            " 2.68738560e-05 7.46496000e-07 6.71846400e-06 1.19439360e-05\n",
            " 5.30841600e-06 3.68640000e-08 3.31776000e-07 1.47456000e-07\n",
            " 3.31776000e-07 1.86624000e-07 8.29440000e-08 3.31776000e-07\n",
            " 9.21600000e-09 1.32710400e-06 3.31776000e-07 1.86624000e-07\n",
            " 8.29440000e-08 2.07360000e-08 5.76000000e-10 8.29440000e-08\n",
            " 2.98598400e-06 8.29440000e-08 7.46496000e-07 1.32710400e-06\n",
            " 5.30841600e-06 2.98598400e-06 1.32710400e-06 3.31776000e-07\n",
            " 9.21600000e-09 1.32710400e-06 2.98598400e-06 8.29440000e-08\n",
            " 7.46496000e-07 1.32710400e-06 4.77757440e-05 1.32710400e-06\n",
            " 1.19439360e-05 1.32710400e-06 1.91102976e-04 9.55514880e-06\n",
            " 5.97196800e-07 5.37477120e-06 5.97196800e-07 5.37477120e-06\n",
            " 2.38878720e-06 5.97196800e-07 3.35923200e-07 3.73248000e-08\n",
            " 3.35923200e-07 1.49299200e-07 5.37477120e-06 3.73248000e-08\n",
            " 3.35923200e-07 1.49299200e-07 5.37477120e-06 3.02330880e-06\n",
            " 1.34369280e-06 5.37477120e-06 1.49299200e-07 2.14990848e-05\n",
            " 1.06168320e-06 5.97196800e-07 6.63552000e-08 5.97196800e-07\n",
            " 2.65420800e-07 5.97196800e-07 4.14720000e-09 3.73248000e-08\n",
            " 1.65888000e-08 5.97196800e-07 3.35923200e-07 1.49299200e-07\n",
            " 5.97196800e-07 1.65888000e-08 2.38878720e-06 9.55514880e-06\n",
            " 6.63552000e-08 5.97196800e-07 2.65420800e-07 5.97196800e-07\n",
            " 3.35923200e-07 1.49299200e-07 5.97196800e-07 1.65888000e-08\n",
            " 2.38878720e-06 9.55514880e-06 5.37477120e-06 2.38878720e-06\n",
            " 5.97196800e-07 1.65888000e-08 2.38878720e-06 8.59963392e-05\n",
            " 2.38878720e-06 2.14990848e-05 3.82205952e-05 1.71992678e-05\n",
            " 1.07495424e-06 1.07495424e-06 9.67458816e-06 1.07495424e-06\n",
            " 9.67458816e-06 4.29981696e-06 1.91102976e-06 1.19439360e-07\n",
            " 1.07495424e-06 1.19439360e-07 1.07495424e-06 4.77757440e-07\n",
            " 1.91102976e-06 1.07495424e-06 1.19439360e-07 1.07495424e-06\n",
            " 4.77757440e-07 1.71992678e-05 1.19439360e-07 1.07495424e-06\n",
            " 4.77757440e-07 1.71992678e-05 9.67458816e-06 4.29981696e-06\n",
            " 1.71992678e-05 4.77757440e-07 6.87970714e-05 3.09586821e-05\n",
            " 3.43985357e-06 3.43985357e-06 3.43985357e-06 3.09586821e-05\n",
            " 3.43985357e-06 3.09586821e-05 1.37594143e-05 9.90677828e-05]\n"
          ]
        }
      ]
    },
    {
      "cell_type": "code",
      "source": [
        "PObs = np.sum(P)\n",
        "print(PObs)"
      ],
      "metadata": {
        "colab": {
          "base_uri": "https://localhost:8080/"
        },
        "id": "Ues9qLGsdESM",
        "outputId": "fed65898-4f57-409a-ba23-e160bb3fa1bd"
      },
      "execution_count": 4,
      "outputs": [
        {
          "output_type": "stream",
          "name": "stdout",
          "text": [
            "0.0019344381513984013\n"
          ]
        }
      ]
    },
    {
      "cell_type": "code",
      "source": [
        "maxP = np.max(P)\n",
        "ii = np.where( P == np.amax(P))\n",
        "print(HiddenStates[ii],maxP)"
      ],
      "metadata": {
        "colab": {
          "base_uri": "https://localhost:8080/"
        },
        "id": "7x5l6DjzdtXt",
        "outputId": "68ffe98d-4b48-4023-c9d6-31e2fef4e07b"
      },
      "execution_count": 5,
      "outputs": [
        {
          "output_type": "stream",
          "name": "stdout",
          "text": [
            "[[1 1 1 1 0 0 0 0]] 0.0001911029760000001\n"
          ]
        }
      ]
    },
    {
      "cell_type": "code",
      "source": [
        "plt.plot(P,color='k')\n",
        "plt.axhline(y=maxP)"
      ],
      "metadata": {
        "colab": {
          "base_uri": "https://localhost:8080/",
          "height": 286
        },
        "id": "mqE7e_8fdxhF",
        "outputId": "67805022-0f18-425a-840d-c6947c827e5e"
      },
      "execution_count": 6,
      "outputs": [
        {
          "output_type": "execute_result",
          "data": {
            "text/plain": [
              "<matplotlib.lines.Line2D at 0x7f628d4cfb50>"
            ]
          },
          "metadata": {},
          "execution_count": 6
        },
        {
          "output_type": "display_data",
          "data": {
            "text/plain": [
              "<Figure size 432x288 with 1 Axes>"
            ],
            "image/png": "[encoded data removed]"
          },
          "metadata": {
            "needs_background": "light"
          }
        }
      ]
    },
    {
      "cell_type": "code",
      "source": [
        "ObsStates = GetHiddenStates([0,1],8)\n",
        "ObsStates"
      ],
      "metadata": {
        "colab": {
          "base_uri": "https://localhost:8080/"
        },
        "id": "lySlcq3yeZD8",
        "outputId": "384f4b22-23dd-4c64-b8ea-d46d5cf697e8"
      },
      "execution_count": 7,
      "outputs": [
        {
          "output_type": "execute_result",
          "data": {
            "text/plain": [
              "array([[0, 0, 0, ..., 0, 0, 0],\n",
              "       [0, 0, 0, ..., 0, 0, 1],\n",
              "       [0, 0, 0, ..., 0, 1, 0],\n",
              "       ...,\n",
              "       [1, 1, 1, ..., 1, 0, 1],\n",
              "       [1, 1, 1, ..., 1, 1, 0],\n",
              "       [1, 1, 1, ..., 1, 1, 1]])"
            ]
          },
          "metadata": {},
          "execution_count": 7
        }
      ]
    },
    {
      "cell_type": "code",
      "source": [
        "NObs = ObsStates.shape[0]\n",
        "\n",
        "PObs = np.zeros(NObs)\n",
        "\n",
        "for j in range(NObs):\n",
        "    \n",
        "    dim = HiddenStates.shape[0]\n",
        "    P = np.zeros(dim)\n",
        "    \n",
        "    for i in range(dim):\n",
        "        P[i] = GetProb(T,E,ObsStates[j],HiddenStates[i],priorpi)\n",
        "        \n",
        "    PObs[j] = np.sum(P)\n",
        "plt.plot(PObs)"
      ],
      "metadata": {
        "colab": {
          "base_uri": "https://localhost:8080/",
          "height": 282
        },
        "id": "0D_t46o4enD8",
        "outputId": "c86d4f0c-5e03-48bb-8d26-cee7981b0707"
      },
      "execution_count": 8,
      "outputs": [
        {
          "output_type": "execute_result",
          "data": {
            "text/plain": [
              "[<matplotlib.lines.Line2D at 0x7f628a72e750>]"
            ]
          },
          "metadata": {},
          "execution_count": 8
        },
        {
          "output_type": "display_data",
          "data": {
            "text/plain": [
              "<Figure size 432x288 with 1 Axes>"
            ],
            "image/png": "[encoded data removed]"
          },
          "metadata": {
            "needs_background": "light"
          }
        }
      ]
    },
    {
      "cell_type": "code",
      "source": [
        "maxP = np.max(PObs)\n",
        "ii = np.where( PObs == np.amax(PObs))\n",
        "print(ObsStates[ii],maxP)"
      ],
      "metadata": {
        "colab": {
          "base_uri": "https://localhost:8080/"
        },
        "id": "TW7H-qZYewLM",
        "outputId": "d2c25563-3928-4465-8bd1-b45cfea82867"
      },
      "execution_count": 9,
      "outputs": [
        {
          "output_type": "stream",
          "name": "stdout",
          "text": [
            "[[0 0 0 0 0 0 0 0]] 0.13698241367042568\n"
          ]
        }
      ]
    },
    {
      "cell_type": "code",
      "source": [
        "sum_PObs = np.sum(PObs)\n",
        "\n",
        "sum_PObs"
      ],
      "metadata": {
        "colab": {
          "base_uri": "https://localhost:8080/"
        },
        "id": "8zuzov8We2l8",
        "outputId": "1413d52b-a05c-471a-ec68-7efb3a05680c"
      },
      "execution_count": 11,
      "outputs": [
        {
          "output_type": "execute_result",
          "data": {
            "text/plain": [
              "1.0000000000000007"
            ]
          },
          "metadata": {},
          "execution_count": 11
        }
      ]
    },
    {
      "cell_type": "markdown",
      "source": [
        "El resultado si depende de la probalidad a-priori debido a que ya verificamos que la suma de todos los estados observables es 1."
      ],
      "metadata": {
        "id": "ZRUOGYU9i1Zs"
      }
    }
  ]
}